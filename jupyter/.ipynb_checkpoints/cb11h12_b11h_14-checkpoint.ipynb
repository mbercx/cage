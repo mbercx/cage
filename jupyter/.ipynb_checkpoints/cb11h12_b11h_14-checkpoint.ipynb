{
 "cells": [
  {
   "cell_type": "markdown",
   "metadata": {},
   "source": [
    "# Spherical landscape analysis for [Li, Na]CB11H12 and [Li, Na]B11H14\n",
    "\n",
    "Instead of just sending a report with a ton of landscapes, I thought it better to set up a jupyter lab notebook that would allow the user to simply compare landscapes by selecting them. The idea was to then host this notebook on a server, but I wasn't able to make this work yet. If you're comfortable using jupyter lab, setting up the proper environment should be easy enough. I'll try an set up an installer later."
   ]
  },
  {
   "cell_type": "code",
   "execution_count": 1,
   "metadata": {},
   "outputs": [],
   "source": [
    "# Notebook header\n",
    "\n",
    "import os, json\n",
    "\n",
    "import numpy as np\n",
    "\n",
    "class NumpyEncoder(json.JSONEncoder):\n",
    "    def default(self, obj):\n",
    "        if isinstance(obj, np.ndarray):\n",
    "            return obj.tolist()\n",
    "        return json.JSONEncoder.default(self, obj)\n",
    "\n",
    "from ipywidgets import interact, fixed\n",
    "from monty.json import MontyDecoder, MontyEncoder\n",
    "\n",
    "import matplotlib.pyplot as plt\n",
    "\n",
    "# Taken from cage.cli.commands.analyze\n",
    "def plot_landscape(landscape_data, reference_energy=None, energy_range=None,\n",
    "                   contour_levels=0.1, set_contour_levels_manually=False):\n",
    "    \"\"\"\n",
    "    Plot a landscape based on the data provided.\n",
    "\n",
    "    Args:\n",
    "        landscape_data:\n",
    "        reference_energy:\n",
    "        energy_range:\n",
    "        contour_levels:\n",
    "        set_contour_levels_manually:\n",
    "\n",
    "    Returns:\n",
    "\n",
    "    \"\"\"\n",
    "    landscape_type = landscape_data[\"type\"]\n",
    "    energy = landscape_data[\"energy\"].copy()\n",
    "    x_coords = landscape_data[\"x_coords\"].copy()\n",
    "    y_coords = landscape_data[\"y_coords\"].copy()\n",
    "\n",
    "    # Compare the energies versus an reference energy if provided\n",
    "    if reference_energy is None:\n",
    "        energy -= np.nanmin(energy)\n",
    "    else:\n",
    "        energy -= reference_energy\n",
    "\n",
    "    # If no energy range is specified by the user, take (min, max)\n",
    "    if energy_range is None:\n",
    "        if reference_energy is None:\n",
    "            energy_range = (np.nanmin(energy), np.nanmax(energy))\n",
    "        else:\n",
    "            energy_range = (np.nanmin(energy), 0)\n",
    "\n",
    "    contour_levels = np.mgrid[energy_range[0]:energy_range[1]:contour_levels]\n",
    "\n",
    "    # Plot the landscape\n",
    "    plt.figure()\n",
    "    plt.pcolormesh(x_coords, y_coords, energy, vmin=energy_range[0],\n",
    "                   vmax=energy_range[1], cmap='viridis')\n",
    "    cbar = plt.colorbar()\n",
    "    cbar.set_label('Energy (eV)', size='x-large')\n",
    "    cs = plt.contour(x_coords, y_coords, energy, colors='black',\n",
    "                     levels=contour_levels, linewidths=0.6, linestyles='solid')\n",
    "\n",
    "    if landscape_type == \"sphere\":\n",
    "        plt.xlabel('$\\\\phi$', size='x-large', fontname='Georgia')\n",
    "        plt.ylabel('$\\\\theta$', size='x-large', fontname='Georgia')\n",
    "        plt.xticks(size=\"x-large\")\n",
    "        plt.yticks(size=\"x-large\")\n",
    "    else:\n",
    "        raise NotImplementedError\n",
    "\n",
    "    if set_contour_levels_manually:\n",
    "        plt.clabel(cs, fontsize=10, inline_spacing=25, fmt='%1.1f',\n",
    "                   manual=True)\n",
    "    elif set_contour_levels_manually is None:\n",
    "        pass\n",
    "    else:\n",
    "        plt.clabel(cs, fontsize=10, inline_spacing=25, fmt='%1.1f')\n",
    "\n",
    "    plt.subplots_adjust(left=0.15, right=0.95, top=0.95, bottom=0.15)\n",
    "\n",
    "    plt.show()"
   ]
  },
  {
   "cell_type": "markdown",
   "metadata": {},
   "source": [
    "## Extracting the data from the landscape.json files\n",
    "\n",
    "We used the following code to load the data from the output into a dictionary:\n",
    "\n",
    "```Python\n",
    "from cage.cli.commands.analyze import sphere_analysis, plot_landscape\n",
    "from pymatgen.io.nwchem import NwOutput\n",
    "\n",
    "data = dict()\n",
    "\n",
    "# Data definers\n",
    "anions = [\"b11h14\", \"cb11h12\"]\n",
    "cations = [\"Li\", \"Na\"]\n",
    "radii = [3.5, 4.0, 5.0, 6.0]\n",
    "\n",
    "for anion in anions:\n",
    "    \n",
    "    data[anion] = dict()\n",
    "    \n",
    "    for cation in cations:\n",
    "        \n",
    "        data[anion][cation] = dict()\n",
    "        \n",
    "        molecule_dir = os.path.join(\"data\", anion, cation)\n",
    "        \n",
    "        # Reference energy determination\n",
    "        reference_energies = []\n",
    "\n",
    "        for dir in os.listdir(molecule_dir):\n",
    "            if dir.startswith(\"reference_\"):\n",
    "                reference_energies.append(NwOutput(\n",
    "                    os.path.join(molecule_dir, dir, \"radius=8.00\", \"result.out\")\n",
    "                ).data[0][\"energies\"][-1])\n",
    "\n",
    "        # Take the smallest value for now\n",
    "        data[anion][cation][\"reference_energy\"] = np.min(reference_energies)\n",
    "        \n",
    "        for radius in radii:\n",
    "            \n",
    "            sphere_dir = os.path.join(molecule_dir, \"sphere_\" + str(radius))\n",
    "            if os.path.exists(sphere_dir):\n",
    "                data[anion][cation][\"sphere_R\" + str(radius)] = sphere_analysis(sphere_dir, cation)\n",
    "\n",
    "```\n",
    "\n",
    "However, I've just added this code as Markdown, because uploading all the date to github is a bad idea. Instead, I wrote the data to a json file using the following code:\n",
    "\n",
    "```Python\n",
    "with open(\"all_data.json\", \"w\") as file:\n",
    "    json.dump(json.dumps(data, cls=MontyEncoder), file)\n",
    "```\n",
    "\n",
    "Which is also not executable in this notebook. However, below we load the data from the json file into a dictionary from a link to my Dropbox:"
   ]
  },
  {
   "cell_type": "code",
   "execution_count": 2,
   "metadata": {},
   "outputs": [],
   "source": [
    "# Data definers\n",
    "anions = [\"b11h14\", \"cb11h12\"]\n",
    "cations = [\"Li\", \"Na\"]\n",
    "radii = [3.5, 4.0, 5.0, 6.0]\n",
    "\n",
    "url = \"https://www.dropbox.com/s/imuuimclhu2gvoq/all_data.json?dl=1\"\n",
    "import urllib.request\n",
    "u = urllib.request.urlopen(url)\n",
    "data = u.read()\n",
    "u.close()\n",
    "\n",
    "loaded_data = json.loads(json.loads(data.decode(\"utf-8\")), cls=MontyDecoder)"
   ]
  },
  {
   "cell_type": "code",
   "execution_count": 3,
   "metadata": {},
   "outputs": [],
   "source": [
    "def plot_multiple_landscape_data(data, anion, cation, radius):\n",
    "    try:\n",
    "        plot_landscape(data[anion][cation][\"sphere_R\" + str(radius)],\n",
    "                       reference_energy=data[anion][cation][\"reference_energy\"],\n",
    "                       set_contour_levels_manually=None)\n",
    "    except KeyError:\n",
    "        print(\"This landscape has not been calculated yet.\")\n",
    "\n",
    "def interactive_lands_plot(data):\n",
    "    interact(plot_multiple_landscape_data, data=fixed(data), anion=anions, cation=cations, radius=radii)"
   ]
  },
  {
   "cell_type": "code",
   "execution_count": 4,
   "metadata": {},
   "outputs": [
    {
     "data": {
      "application/vnd.jupyter.widget-view+json": {
       "model_id": "fe827001b89a45ddba2f47442df077d3",
       "version_major": 2,
       "version_minor": 0
      },
      "text/plain": [
       "interactive(children=(Dropdown(description='anion', options=('b11h14', 'cb11h12'), value='b11h14'), Dropdown(d…"
      ]
     },
     "metadata": {},
     "output_type": "display_data"
    }
   ],
   "source": [
    "%matplotlib widget\n",
    "%matplotlib inline\n",
    "interactive_lands_plot(loaded_data)"
   ]
  },
  {
   "cell_type": "code",
   "execution_count": 5,
   "metadata": {},
   "outputs": [
    {
     "data": {
      "application/vnd.jupyter.widget-view+json": {
       "model_id": "4ad695677f874301884739490b2732a1",
       "version_major": 2,
       "version_minor": 0
      },
      "text/plain": [
       "interactive(children=(Dropdown(description='anion', options=('b11h14', 'cb11h12'), value='b11h14'), Dropdown(d…"
      ]
     },
     "metadata": {},
     "output_type": "display_data"
    }
   ],
   "source": [
    "%matplotlib widget\n",
    "%matplotlib inline\n",
    "interactive_lands_plot(loaded_data)"
   ]
  },
  {
   "cell_type": "markdown",
   "metadata": {},
   "source": [
    "If you've been able to set up the python environment correctly, you will see two identical landscapes above, as well as several drop down menu's from which you can choose the anion, cation and radius. Note that the landscapes have been set up in such a way that $\\theta = 0$ corresponds to the carbon atom in CB11H12, and the center of the pentagonal facet for B11H14."
   ]
  },
  {
   "cell_type": "markdown",
   "metadata": {},
   "source": [
    "# Actual code to load the data from the output files\n",
    "\n",
    "This is just here because I used this to load the data and write it to the json file in my Dropbox. Unless you have access to the data and have installed the cage package, it won't do you much good. I've put the code in markdown for this reason, as executing it might mess up the interactive elements above."
   ]
  },
  {
   "cell_type": "markdown",
   "metadata": {},
   "source": [
    "```Python\n",
    "from cage.cli.commands.analyze import sphere_analysis, plot_landscape\n",
    "from pymatgen.io.nwchem import NwOutput\n",
    "\n",
    "data = dict()\n",
    "\n",
    "# Data definers\n",
    "anions = [\"b11h14\", \"cb11h12\"]\n",
    "cations = [\"Li\", \"Na\"]\n",
    "radii = [3.5, 4.0, 5.0, 6.0]\n",
    "\n",
    "for anion in anions:\n",
    "    \n",
    "    data[anion] = dict()\n",
    "    \n",
    "    for cation in cations:\n",
    "        \n",
    "        data[anion][cation] = dict()\n",
    "        \n",
    "        molecule_dir = os.path.join(\"data\", anion, cation)\n",
    "        \n",
    "        # Reference energy determination\n",
    "        reference_energies = []\n",
    "\n",
    "        for dir in os.listdir(molecule_dir):\n",
    "            if dir.startswith(\"reference_\"):\n",
    "                reference_energies.append(NwOutput(\n",
    "                    os.path.join(molecule_dir, dir, \"radius=8.00\", \"result.out\")\n",
    "                ).data[0][\"energies\"][-1])\n",
    "\n",
    "        # Take the smallest value for now\n",
    "        data[anion][cation][\"reference_energy\"] = np.min(reference_energies)\n",
    "        \n",
    "        for radius in radii:\n",
    "            \n",
    "            sphere_dir = os.path.join(molecule_dir, \"sphere_\" + str(radius))\n",
    "            if os.path.exists(sphere_dir):\n",
    "                data[anion][cation][\"sphere_R\" + str(radius)] = sphere_analysis(sphere_dir, cation)\n",
    "                sphere_plot = plot_landscape()\n",
    "                \n",
    "with open(\"b11h14_data.json\", \"w\") as file:\n",
    "    json.dump(json.dumps(data[\"b11h14\"], cls=MontyEncoder), file)\n",
    "with open(\"cb11h12_data.json\", \"w\") as file:\n",
    "    json.dump(json.dumps(data[\"cb11h12\"], cls=MontyEncoder), file)\n",
    "with open(\"all_data.json\", \"w\") as file:\n",
    "    json.dump(json.dumps(data, cls=MontyEncoder), file)\n",
    "```"
   ]
  },
  {
   "cell_type": "code",
   "execution_count": null,
   "metadata": {},
   "outputs": [],
   "source": [
    "# with open(\"b11h14_data.json\", \"r\") as file:\n",
    "#     b11h14_data = json.loads(json.load(file), cls=MontyDecoder)\n",
    "# with open(\"cb11h12_data.json\", \"r\") as file:\n",
    "#     cb11h12_data = json.loads(json.load(file), cls=MontyDecoder)\n",
    "    \n",
    "# loaded_data = dict(); loaded_data[\"b11h14\"] = b11h14_data; loaded_data[\"cb11h12\"] = cb11h12_data"
   ]
  }
 ],
 "metadata": {
  "kernelspec": {
   "display_name": "Python 3",
   "language": "python",
   "name": "python3"
  },
  "language_info": {
   "codemirror_mode": {
    "name": "ipython",
    "version": 3
   },
   "file_extension": ".py",
   "mimetype": "text/x-python",
   "name": "python",
   "nbconvert_exporter": "python",
   "pygments_lexer": "ipython3",
   "version": "3.7.1"
  }
 },
 "nbformat": 4,
 "nbformat_minor": 2
}

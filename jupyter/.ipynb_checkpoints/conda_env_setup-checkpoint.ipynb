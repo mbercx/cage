{
 "cells": [
  {
   "cell_type": "markdown",
   "metadata": {},
   "source": [
    "# Cage environment setup instructions\n",
    "\n",
    "In order to open the jupyter notebook and be able to use the interactive elements, you need to set up and activate a proper python environment. If you haven't already, let's start by installing homebrew. Open a terminal and paste the following line:\n",
    "\n",
    "```\n",
    "/usr/bin/ruby -e \"$(curl -fsSL https://raw.githubusercontent.com/Homebrew/install/master/install)\"\n",
    "```\n",
    "\n",
    "It's nice to install conda using wget. So let's install wget using homebrew:\n",
    "\n",
    "```\n",
    "brew install wget\n",
    "```\n",
    "\n",
    "Once you've got wget, you can install miniconda using the following commands:\n",
    "\n",
    "```\n",
    "wget https://repo.anaconda.com/miniconda/Miniconda3-latest-MacOSX-x86_64.sh\n",
    "bash Miniconda3-latest-MacOSX-x86_64.sh\n",
    "rm Miniconda3-latest-MacOSX-x86_64.sh\n",
    "```\n",
    "\n",
    "Now restart the terminal and create a new environment, e.g. called cage, and activate it. Note that you might have to adjust the second line if you didn't install miniconda in the standard directory. Moreover, you might have to comment out the line in your `~/.bash_profile` that corresponds to this: `export PATH=\"$HOME/miniconda3/bin:$PATH\"`.\n",
    "\n",
    "```\n",
    "conda create -n cage\n",
    "echo \". $HOME/miniconda3/etc/profile.d/conda.sh\" >> ~/.bash_profile\n",
    "conda activate cage\n",
    "```\n",
    "\n",
    "Now we can finally start setting up the environment:\n",
    "\n",
    "```\n",
    "conda install pip\n",
    "pip install --upgrade pip\n",
    "pip install jupyterlab\n",
    "conda install -c conda-forge ipympl\n",
    "conda install nodejs\n",
    "jupyter labextension install @jupyter-widgets/jupyterlab-manager\n",
    "jupyter labextension install jupyter-matplotlib\n",
    "```\n",
    "\n",
    "Finally, it's best to also clone the `cage` package github repo and install the package locally using the `-e` option when using pip. Go to a directory in which you'd like to clone the cage repo and use the following commands:\n",
    "\n",
    "```\n",
    "git clone https://github.com/mbercx/cage.git\n",
    "pip install -e cage\n",
    "```\n",
    "\n",
    "Now you should finally be able to start jupyter lab and load the notebook! If you've run jupyter lab right after cloning and installing the `cage` package, you should be able to find the notebook in `./cage/jupyter/`. Once the notebook is loaded, you can use `SHIFT+RETURN` to execute the cells until you reach the 'Actual code... title'. Anything beyond this point is what I used to load the data from the original output."
   ]
  },
  {
   "cell_type": "code",
   "execution_count": null,
   "metadata": {},
   "outputs": [],
   "source": []
  }
 ],
 "metadata": {
  "kernelspec": {
   "display_name": "Python 3",
   "language": "python",
   "name": "python3"
  },
  "language_info": {
   "codemirror_mode": {
    "name": "ipython",
    "version": 3
   },
   "file_extension": ".py",
   "mimetype": "text/x-python",
   "name": "python",
   "nbconvert_exporter": "python",
   "pygments_lexer": "ipython3",
   "version": "3.7.1"
  }
 },
 "nbformat": 4,
 "nbformat_minor": 2
}
